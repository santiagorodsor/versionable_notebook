{
 "cells": [
  {
   "cell_type": "code",
   "execution_count": null,
   "metadata": {
    "collapsed": true
   },
   "outputs": [],
   "source": [
    "# Versionable must imports"
   ]
  },
  {
   "cell_type": "code",
   "execution_count": 12,
   "metadata": {
    "collapsed": false
   },
   "outputs": [
    {
     "name": "stdout",
     "output_type": "stream",
     "text": [
      "Existing file: backend_apiversionable.py\n"
     ]
    }
   ],
   "source": [
    "from versionable import *\n",
    "#Versionable status\n",
    "write_to_file = True\n",
    "\n",
    "#Versionable variables\n",
    "versionable_name = \"apiversionable\"\n",
    "versionable_version = \"v_2\"\n",
    "versionable_file = buildup(versionable_name,versionable_version)\n"
   ]
  },
  {
   "cell_type": "code",
   "execution_count": 13,
   "metadata": {
    "collapsed": true
   },
   "outputs": [],
   "source": [
    "#versionable magic functions\n",
    "from IPython.core.magic import (register_cell_magic)\n",
    "@register_cell_magic\n",
    "def writefile_versionable_write(line, cell):\n",
    "    \"\"\" \n",
    "    Writes cell contents in file named as 'versionable_file' if 'write_to_file'.\n",
    "\n",
    "    \"\"\"\n",
    "    if write_to_file:\n",
    "        return get_ipython().run_cell_magic(u'writefile', versionable_file, cell)\n",
    "    else:\n",
    "        print(\"Executed.\")\n",
    "        return get_ipython().run_cell_magic(u'capture',str(\"--no-stderr --no-stdout --no-display\"),cell)\n",
    "\n",
    "@register_cell_magic\n",
    "def writefile_versionable_add(line, cell):\n",
    "    \"\"\" \n",
    "    Adds cell contents in file named as 'versionable_file' if 'write_to_file'.\n",
    "    \"\"\"\n",
    "    if write_to_file:\n",
    "        return get_ipython().run_cell_magic(u'writefile',str(\"-a \") + versionable_file, cell)\n",
    "    else:\n",
    "        print(\"Executed.\")\n",
    "        return get_ipython().run_cell_magic(u'capture',str(\"--no-stderr --no-stdout --no-display\"),cell)\n",
    "\n",
    "@register_cell_magic\n",
    "def writefile_versionable_ignore(line, cell):\n",
    "    \"\"\" \n",
    "    Ignores cell contents to be executed neither write if 'write_to_file'.\n",
    "    \"\"\"\n",
    "    if write_to_file:\n",
    "        print(\"Ignoring while writing\")\n",
    "    else:\n",
    "        print(\"Executed.\")\n",
    "        return get_ipython().run_cell_magic(u'capture',str(\"--no-stderr --no-stdout --no-display\"),cell)\n",
    "        \n"
   ]
  },
  {
   "cell_type": "markdown",
   "metadata": {},
   "source": [
    "# Versionable contents"
   ]
  },
  {
   "cell_type": "code",
   "execution_count": 14,
   "metadata": {
    "collapsed": false
   },
   "outputs": [
    {
     "name": "stdout",
     "output_type": "stream",
     "text": [
      "Overwriting Backend_apiversionable_v_2.py\n"
     ]
    }
   ],
   "source": [
    "%%writefile_versionable_write\n",
    "\n",
    "#Upper line left intentionally in blank, but this line sadly appears in versionable_file\n",
    "\n",
    "import math"
   ]
  },
  {
   "cell_type": "code",
   "execution_count": 15,
   "metadata": {
    "collapsed": false
   },
   "outputs": [
    {
     "name": "stdout",
     "output_type": "stream",
     "text": [
      "Appending to Backend_apiversionable_v_2.py\n"
     ]
    }
   ],
   "source": [
    "%%writefile_versionable_add\n",
    "\n",
    "def add(a,b):\n",
    "    return a + b\n",
    "\n",
    "def power(x,y):\n",
    "    return math.pow(x,y)"
   ]
  },
  {
   "cell_type": "code",
   "execution_count": 16,
   "metadata": {
    "collapsed": false
   },
   "outputs": [
    {
     "name": "stdout",
     "output_type": "stream",
     "text": [
      "Ignoring while writing\n"
     ]
    }
   ],
   "source": [
    "%%writefile_versionable_ignore\n",
    "\n",
    "#this cell is being ignored when writing, and executed normally. For test purposes or ploting\n",
    "import matplotlib.pyplot as plt\n",
    "%matplotlib inline\n",
    "\n",
    "x = list(range(20))\n",
    "y = [power(a,2) for a in x]\n",
    "plt.plot(x,y)\n",
    "plt.show()"
   ]
  },
  {
   "cell_type": "code",
   "execution_count": 17,
   "metadata": {
    "collapsed": false
   },
   "outputs": [
    {
     "name": "stdout",
     "output_type": "stream",
     "text": [
      "Appending to Backend_apiversionable_v_2.py\n"
     ]
    }
   ],
   "source": [
    "%%writefile_versionable_add\n",
    "\n",
    "\n",
    "def sqrt_cool(x,precision=0.0001):\n",
    "    guess = x/2.0 if x !=1 else 1.0\n",
    "    make_guess = lambda guess_,x: .5*(guess_ + x/guess_)\n",
    "\n",
    "    last = guess\n",
    "    new_guess = make_guess(last,x)\n",
    "    while (abs(new_guess-last) > precision):\n",
    "        last = new_guess\n",
    "        new_guess = make_guess(last,x)\n",
    "    return new_guess"
   ]
  },
  {
   "cell_type": "code",
   "execution_count": null,
   "metadata": {
    "collapsed": true
   },
   "outputs": [],
   "source": []
  }
 ],
 "metadata": {
  "kernelspec": {
   "display_name": "Python 2",
   "language": "python",
   "name": "python2"
  },
  "language_info": {
   "codemirror_mode": {
    "name": "ipython",
    "version": 2
   },
   "file_extension": ".py",
   "mimetype": "text/x-python",
   "name": "python",
   "nbconvert_exporter": "python",
   "pygments_lexer": "ipython2",
   "version": "2.7.11"
  },
  "toc": {
   "toc_cell": false,
   "toc_number_sections": true,
   "toc_threshold": 6,
   "toc_window_display": true
  }
 },
 "nbformat": 4,
 "nbformat_minor": 0
}
